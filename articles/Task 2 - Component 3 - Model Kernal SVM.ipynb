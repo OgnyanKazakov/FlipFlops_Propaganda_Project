{
 "cells": [
  {
   "cell_type": "markdown",
   "metadata": {},
   "source": [
    "## Model Tuning - Test"
   ]
  },
  {
   "cell_type": "code",
   "execution_count": 1,
   "metadata": {},
   "outputs": [
    {
     "name": "stdout",
     "output_type": "stream",
     "text": [
      "Requirement already satisfied: imblearn in /opt/conda/lib/python3.6/site-packages (0.0)\r\n",
      "Requirement already satisfied: imbalanced-learn in /opt/conda/lib/python3.6/site-packages (from imblearn) (0.4.3)\r\n",
      "Requirement already satisfied: scipy>=0.13.3 in /opt/conda/lib/python3.6/site-packages (from imbalanced-learn->imblearn) (1.1.0)\r\n",
      "Requirement already satisfied: scikit-learn>=0.20 in /opt/conda/lib/python3.6/site-packages (from imbalanced-learn->imblearn) (0.20.2)\r\n",
      "Requirement already satisfied: numpy>=1.8.2 in /opt/conda/lib/python3.6/site-packages (from imbalanced-learn->imblearn) (1.16.0)\r\n"
     ]
    }
   ],
   "source": [
    "!pip install imblearn"
   ]
  },
  {
   "cell_type": "code",
   "execution_count": 22,
   "metadata": {},
   "outputs": [],
   "source": [
    "from sklearn.model_selection import GridSearchCV\n",
    "from sklearn.model_selection import train_test_split\n",
    "from imblearn.over_sampling import SMOTE\n",
    "import pandas as pd\n",
    "from sklearn.svm import SVC\n",
    "from sklearn.preprocessing import StandardScaler\n",
    "from sklearn.metrics import f1_score"
   ]
  },
  {
   "cell_type": "markdown",
   "metadata": {},
   "source": [
    "### Import Prepped Features"
   ]
  },
  {
   "cell_type": "code",
   "execution_count": 83,
   "metadata": {},
   "outputs": [],
   "source": [
    "prepped_df = pd.read_pickle(\"final_data.pkl\")"
   ]
  },
  {
   "cell_type": "code",
   "execution_count": 73,
   "metadata": {},
   "outputs": [],
   "source": [
    "#prepped_df = pd.read_csv(\"all_features.csv\")"
   ]
  },
  {
   "cell_type": "code",
   "execution_count": 84,
   "metadata": {},
   "outputs": [
    {
     "data": {
      "text/html": [
       "<div>\n",
       "<style scoped>\n",
       "    .dataframe tbody tr th:only-of-type {\n",
       "        vertical-align: middle;\n",
       "    }\n",
       "\n",
       "    .dataframe tbody tr th {\n",
       "        vertical-align: top;\n",
       "    }\n",
       "\n",
       "    .dataframe thead th {\n",
       "        text-align: right;\n",
       "    }\n",
       "</style>\n",
       "<table border=\"1\" class=\"dataframe\">\n",
       "  <thead>\n",
       "    <tr style=\"text-align: right;\">\n",
       "      <th></th>\n",
       "      <th>sentences</th>\n",
       "      <th>article</th>\n",
       "      <th>N_sentence</th>\n",
       "      <th>is_propaganda</th>\n",
       "      <th>automated_readability_index</th>\n",
       "      <th>coleman_liau_index</th>\n",
       "      <th>dale_chall_readability_score</th>\n",
       "      <th>difficult_words</th>\n",
       "      <th>flesch_kincaid_grade</th>\n",
       "      <th>flesch_reading_ease</th>\n",
       "      <th>...</th>\n",
       "      <th>590</th>\n",
       "      <th>591</th>\n",
       "      <th>592</th>\n",
       "      <th>593</th>\n",
       "      <th>594</th>\n",
       "      <th>595</th>\n",
       "      <th>596</th>\n",
       "      <th>597</th>\n",
       "      <th>598</th>\n",
       "      <th>599</th>\n",
       "    </tr>\n",
       "  </thead>\n",
       "  <tbody>\n",
       "    <tr>\n",
       "      <th>0</th>\n",
       "      <td>US bloggers banned from entering UK\\n</td>\n",
       "      <td>111111112</td>\n",
       "      <td>1</td>\n",
       "      <td>non-propaganda</td>\n",
       "      <td>5.9</td>\n",
       "      <td>9.15</td>\n",
       "      <td>9.20</td>\n",
       "      <td>2</td>\n",
       "      <td>4.5</td>\n",
       "      <td>73.85</td>\n",
       "      <td>...</td>\n",
       "      <td>-0.011961</td>\n",
       "      <td>-0.006269</td>\n",
       "      <td>-0.019708</td>\n",
       "      <td>0.020877</td>\n",
       "      <td>-0.004407</td>\n",
       "      <td>0.020958</td>\n",
       "      <td>-0.020239</td>\n",
       "      <td>0.001426</td>\n",
       "      <td>0.020654</td>\n",
       "      <td>-0.002244</td>\n",
       "    </tr>\n",
       "    <tr>\n",
       "      <th>1</th>\n",
       "      <td>Two prominent US bloggers have been banned fro...</td>\n",
       "      <td>111111112</td>\n",
       "      <td>3</td>\n",
       "      <td>non-propaganda</td>\n",
       "      <td>8.9</td>\n",
       "      <td>9.28</td>\n",
       "      <td>7.39</td>\n",
       "      <td>3</td>\n",
       "      <td>7.2</td>\n",
       "      <td>72.16</td>\n",
       "      <td>...</td>\n",
       "      <td>-0.017353</td>\n",
       "      <td>-0.000727</td>\n",
       "      <td>-0.016628</td>\n",
       "      <td>0.026902</td>\n",
       "      <td>-0.006105</td>\n",
       "      <td>0.028831</td>\n",
       "      <td>-0.026416</td>\n",
       "      <td>-0.005258</td>\n",
       "      <td>0.021545</td>\n",
       "      <td>-0.006479</td>\n",
       "    </tr>\n",
       "    <tr>\n",
       "      <th>2</th>\n",
       "      <td>Pamela Geller and Robert Spencer co-founded an...</td>\n",
       "      <td>111111112</td>\n",
       "      <td>5</td>\n",
       "      <td>propaganda</td>\n",
       "      <td>16.4</td>\n",
       "      <td>19.53</td>\n",
       "      <td>9.50</td>\n",
       "      <td>4</td>\n",
       "      <td>9.2</td>\n",
       "      <td>50.84</td>\n",
       "      <td>...</td>\n",
       "      <td>0.008488</td>\n",
       "      <td>0.004523</td>\n",
       "      <td>0.006107</td>\n",
       "      <td>0.000283</td>\n",
       "      <td>0.009850</td>\n",
       "      <td>-0.004840</td>\n",
       "      <td>0.006709</td>\n",
       "      <td>0.015659</td>\n",
       "      <td>-0.015211</td>\n",
       "      <td>-0.014725</td>\n",
       "    </tr>\n",
       "    <tr>\n",
       "      <th>3</th>\n",
       "      <td>They were due to speak at an English Defence L...</td>\n",
       "      <td>111111112</td>\n",
       "      <td>7</td>\n",
       "      <td>non-propaganda</td>\n",
       "      <td>10.1</td>\n",
       "      <td>9.28</td>\n",
       "      <td>7.90</td>\n",
       "      <td>4</td>\n",
       "      <td>7.2</td>\n",
       "      <td>77.57</td>\n",
       "      <td>...</td>\n",
       "      <td>-0.002984</td>\n",
       "      <td>-0.017503</td>\n",
       "      <td>0.003942</td>\n",
       "      <td>-0.010038</td>\n",
       "      <td>-0.019114</td>\n",
       "      <td>0.007487</td>\n",
       "      <td>0.001308</td>\n",
       "      <td>0.007575</td>\n",
       "      <td>-0.003602</td>\n",
       "      <td>-0.014240</td>\n",
       "    </tr>\n",
       "    <tr>\n",
       "      <th>4</th>\n",
       "      <td>A government spokesman said individuals whose ...</td>\n",
       "      <td>111111112</td>\n",
       "      <td>9</td>\n",
       "      <td>non-propaganda</td>\n",
       "      <td>14.6</td>\n",
       "      <td>13.40</td>\n",
       "      <td>8.44</td>\n",
       "      <td>5</td>\n",
       "      <td>11.5</td>\n",
       "      <td>50.16</td>\n",
       "      <td>...</td>\n",
       "      <td>-0.001977</td>\n",
       "      <td>-0.003367</td>\n",
       "      <td>-0.005935</td>\n",
       "      <td>0.002272</td>\n",
       "      <td>0.004195</td>\n",
       "      <td>-0.004013</td>\n",
       "      <td>-0.015887</td>\n",
       "      <td>-0.001420</td>\n",
       "      <td>0.003748</td>\n",
       "      <td>0.003920</td>\n",
       "    </tr>\n",
       "  </tbody>\n",
       "</table>\n",
       "<p>5 rows × 633 columns</p>\n",
       "</div>"
      ],
      "text/plain": [
       "                                           sentences    article  N_sentence  \\\n",
       "0              US bloggers banned from entering UK\\n  111111112           1   \n",
       "1  Two prominent US bloggers have been banned fro...  111111112           3   \n",
       "2  Pamela Geller and Robert Spencer co-founded an...  111111112           5   \n",
       "3  They were due to speak at an English Defence L...  111111112           7   \n",
       "4  A government spokesman said individuals whose ...  111111112           9   \n",
       "\n",
       "    is_propaganda  automated_readability_index  coleman_liau_index  \\\n",
       "0  non-propaganda                          5.9                9.15   \n",
       "1  non-propaganda                          8.9                9.28   \n",
       "2      propaganda                         16.4               19.53   \n",
       "3  non-propaganda                         10.1                9.28   \n",
       "4  non-propaganda                         14.6               13.40   \n",
       "\n",
       "   dale_chall_readability_score  difficult_words  flesch_kincaid_grade  \\\n",
       "0                          9.20                2                   4.5   \n",
       "1                          7.39                3                   7.2   \n",
       "2                          9.50                4                   9.2   \n",
       "3                          7.90                4                   7.2   \n",
       "4                          8.44                5                  11.5   \n",
       "\n",
       "   flesch_reading_ease    ...          590       591       592       593  \\\n",
       "0                73.85    ...    -0.011961 -0.006269 -0.019708  0.020877   \n",
       "1                72.16    ...    -0.017353 -0.000727 -0.016628  0.026902   \n",
       "2                50.84    ...     0.008488  0.004523  0.006107  0.000283   \n",
       "3                77.57    ...    -0.002984 -0.017503  0.003942 -0.010038   \n",
       "4                50.16    ...    -0.001977 -0.003367 -0.005935  0.002272   \n",
       "\n",
       "        594       595       596       597       598       599  \n",
       "0 -0.004407  0.020958 -0.020239  0.001426  0.020654 -0.002244  \n",
       "1 -0.006105  0.028831 -0.026416 -0.005258  0.021545 -0.006479  \n",
       "2  0.009850 -0.004840  0.006709  0.015659 -0.015211 -0.014725  \n",
       "3 -0.019114  0.007487  0.001308  0.007575 -0.003602 -0.014240  \n",
       "4  0.004195 -0.004013 -0.015887 -0.001420  0.003748  0.003920  \n",
       "\n",
       "[5 rows x 633 columns]"
      ]
     },
     "execution_count": 84,
     "metadata": {},
     "output_type": "execute_result"
    }
   ],
   "source": [
    "prepped_df.head()"
   ]
  },
  {
   "cell_type": "code",
   "execution_count": 85,
   "metadata": {},
   "outputs": [],
   "source": [
    "X = prepped_df.iloc[:, 4:].values\n",
    "y = prepped_df['is_propaganda'].map({'non-propaganda':0, 'propaganda':1})"
   ]
  },
  {
   "cell_type": "code",
   "execution_count": 86,
   "metadata": {},
   "outputs": [
    {
     "data": {
      "text/plain": [
       "0    10325\n",
       "1     3938\n",
       "Name: is_propaganda, dtype: int64"
      ]
     },
     "execution_count": 86,
     "metadata": {},
     "output_type": "execute_result"
    }
   ],
   "source": [
    "y.value_counts()"
   ]
  },
  {
   "cell_type": "code",
   "execution_count": 100,
   "metadata": {},
   "outputs": [],
   "source": [
    "# Splitting the dataset into the Training set and Test set\n",
    "X_train, X_test, y_train, y_test = train_test_split(X, y, test_size = 0.3, random_state = 0)"
   ]
  },
  {
   "cell_type": "code",
   "execution_count": 101,
   "metadata": {},
   "outputs": [],
   "source": [
    "# Feature Scaling\n",
    "sc = StandardScaler()\n",
    "X_train = sc.fit_transform(X_train)\n",
    "X_test = sc.transform(X_test)"
   ]
  },
  {
   "cell_type": "code",
   "execution_count": 106,
   "metadata": {},
   "outputs": [],
   "source": [
    "sm = SMOTE(random_state=42)\n",
    "X_train_res, y_train_res = sm.fit_resample(X_train, y_train)"
   ]
  },
  {
   "cell_type": "code",
   "execution_count": 107,
   "metadata": {},
   "outputs": [
    {
     "name": "stderr",
     "output_type": "stream",
     "text": [
      "/opt/conda/lib/python3.6/site-packages/sklearn/svm/base.py:196: FutureWarning: The default value of gamma will change from 'auto' to 'scale' in version 0.22 to account better for unscaled features. Set gamma explicitly to 'auto' or 'scale' to avoid this warning.\n",
      "  \"avoid this warning.\", FutureWarning)\n"
     ]
    },
    {
     "data": {
      "text/plain": [
       "SVC(C=1.0, cache_size=200, class_weight=None, coef0=0.0,\n",
       "  decision_function_shape='ovr', degree=3, gamma='auto_deprecated',\n",
       "  kernel='rbf', max_iter=-1, probability=False, random_state=1145522,\n",
       "  shrinking=True, tol=0.001, verbose=False)"
      ]
     },
     "execution_count": 107,
     "metadata": {},
     "output_type": "execute_result"
    }
   ],
   "source": [
    "classifier_rbf = SVC(kernel = 'rbf', random_state = 1145522)\n",
    "classifier_rbf.fit(X_train_res, y_train_res)"
   ]
  },
  {
   "cell_type": "code",
   "execution_count": 108,
   "metadata": {},
   "outputs": [],
   "source": [
    "# Predicting the total set results\n",
    "y_pred_rbf = classifier_rbf.predict(X_test)"
   ]
  },
  {
   "cell_type": "code",
   "execution_count": 111,
   "metadata": {},
   "outputs": [],
   "source": [
    "X_scaled = sc.transform(X)\n",
    "y_pred_rbf_tot = classifier_rbf.predict(X_scaled)"
   ]
  },
  {
   "cell_type": "markdown",
   "metadata": {},
   "source": [
    "### Linear"
   ]
  },
  {
   "cell_type": "code",
   "execution_count": 109,
   "metadata": {},
   "outputs": [
    {
     "data": {
      "text/plain": [
       "array([[2551,  572],\n",
       "       [ 597,  559]])"
      ]
     },
     "execution_count": 109,
     "metadata": {},
     "output_type": "execute_result"
    }
   ],
   "source": [
    "# Making the Confusion Matrix\n",
    "from sklearn.metrics import confusion_matrix\n",
    "cm1 = confusion_matrix(y_test, y_pred_rbf)\n",
    "cm1"
   ]
  },
  {
   "cell_type": "code",
   "execution_count": 112,
   "metadata": {},
   "outputs": [
    {
     "name": "stdout",
     "output_type": "stream",
     "text": [
      "Kernal SVM F1 result: 0.7349788082772375\n"
     ]
    }
   ],
   "source": [
    "f1_rbf = f1_score(y, y_pred_rbf_tot)\n",
    "print(\"Kernal SVM F1 result: \" + str(f1_rbf))"
   ]
  },
  {
   "cell_type": "code",
   "execution_count": 114,
   "metadata": {},
   "outputs": [],
   "source": [
    "import pickle\n",
    "\n",
    "with open('new_model.pkl', 'wb') as f:\n",
    "    pickle.dump(y_pred_rbf_tot, f)"
   ]
  },
  {
   "cell_type": "code",
   "execution_count": 121,
   "metadata": {},
   "outputs": [],
   "source": [
    "export_pred = pd.concat([prepped_df[['article', 'N_sentence']], pd.Series(y_pred_rbf_tot)], axis = 1)"
   ]
  },
  {
   "cell_type": "code",
   "execution_count": 122,
   "metadata": {},
   "outputs": [],
   "source": [
    "export_pred.columns = ['article', 'N_sentence', 'label']"
   ]
  },
  {
   "cell_type": "code",
   "execution_count": 124,
   "metadata": {},
   "outputs": [],
   "source": [
    "export_pred.to_csv('export_pred_task2.csv')"
   ]
  },
  {
   "cell_type": "code",
   "execution_count": null,
   "metadata": {},
   "outputs": [],
   "source": [
    "###################################################"
   ]
  },
  {
   "cell_type": "code",
   "execution_count": null,
   "metadata": {},
   "outputs": [],
   "source": [
    "prepped_df_test = pd.read_pickle(\"final_data_test.pkl\")"
   ]
  },
  {
   "cell_type": "code",
   "execution_count": null,
   "metadata": {},
   "outputs": [],
   "source": [
    "X_test = prepped_df.iloc[:, 4:].values\n",
    "y_test = prepped_df_test['is_propaganda'].map({'non-propaganda':0, 'propaganda':1})"
   ]
  },
  {
   "cell_type": "code",
   "execution_count": null,
   "metadata": {},
   "outputs": [],
   "source": [
    "X_scaled_test = sc.transform(X_test)\n",
    "y_pred_rbf_test = classifier_rbf.predict(X_scaled_test)"
   ]
  },
  {
   "cell_type": "code",
   "execution_count": null,
   "metadata": {},
   "outputs": [],
   "source": [
    "export_pred = pd.concat([prepped_df[['article', 'N_sentence']], pd.Series(y_pred_rbf_test)], axis = 1)"
   ]
  },
  {
   "cell_type": "code",
   "execution_count": null,
   "metadata": {},
   "outputs": [],
   "source": [
    "export_pred.columns = ['article', 'N_sentence', 'label']"
   ]
  },
  {
   "cell_type": "code",
   "execution_count": null,
   "metadata": {},
   "outputs": [],
   "source": [
    "export_pred.to_csv('export_pred_task2_test.csv')"
   ]
  }
 ],
 "metadata": {
  "kernelspec": {
   "display_name": "Python 3",
   "language": "python",
   "name": "python3"
  },
  "language_info": {
   "codemirror_mode": {
    "name": "ipython",
    "version": 3
   },
   "file_extension": ".py",
   "mimetype": "text/x-python",
   "name": "python",
   "nbconvert_exporter": "python",
   "pygments_lexer": "ipython3",
   "version": "3.6.7"
  }
 },
 "nbformat": 4,
 "nbformat_minor": 2
}
