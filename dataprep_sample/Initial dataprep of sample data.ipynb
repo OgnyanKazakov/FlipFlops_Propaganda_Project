{
 "cells": [
  {
   "cell_type": "markdown",
   "metadata": {},
   "source": [
    "# This is the prep of Task 1\n",
    "---"
   ]
  },
  {
   "cell_type": "code",
   "execution_count": 1,
   "metadata": {},
   "outputs": [],
   "source": [
    "import os\n",
    "import pandas as pd"
   ]
  },
  {
   "cell_type": "code",
   "execution_count": 2,
   "metadata": {},
   "outputs": [],
   "source": [
    "path_task1 = os.path.abspath('..//sample_data/task-1/task1.train.txt')"
   ]
  },
  {
   "cell_type": "code",
   "execution_count": 9,
   "metadata": {},
   "outputs": [],
   "source": [
    "df = pd.read_csv(path_task1, sep=\"\\t\", names=['article', 'article_id', 'label'])"
   ]
  },
  {
   "cell_type": "markdown",
   "metadata": {},
   "source": [
    "### Size "
   ]
  },
  {
   "cell_type": "code",
   "execution_count": 4,
   "metadata": {},
   "outputs": [
    {
     "data": {
      "text/plain": [
       "35986"
      ]
     },
     "execution_count": 4,
     "metadata": {},
     "output_type": "execute_result"
    }
   ],
   "source": [
    "df.count()[0]"
   ]
  },
  {
   "cell_type": "code",
   "execution_count": 5,
   "metadata": {},
   "outputs": [
    {
     "data": {
      "text/html": [
       "<div>\n",
       "<style scoped>\n",
       "    .dataframe tbody tr th:only-of-type {\n",
       "        vertical-align: middle;\n",
       "    }\n",
       "\n",
       "    .dataframe tbody tr th {\n",
       "        vertical-align: top;\n",
       "    }\n",
       "\n",
       "    .dataframe thead th {\n",
       "        text-align: right;\n",
       "    }\n",
       "</style>\n",
       "<table border=\"1\" class=\"dataframe\">\n",
       "  <thead>\n",
       "    <tr style=\"text-align: right;\">\n",
       "      <th></th>\n",
       "      <th>article</th>\n",
       "      <th>article_id</th>\n",
       "      <th>label</th>\n",
       "    </tr>\n",
       "  </thead>\n",
       "  <tbody>\n",
       "    <tr>\n",
       "      <th>0</th>\n",
       "      <td>Et tu, Rhody?  A recent editorial in the Provi...</td>\n",
       "      <td>727600136</td>\n",
       "      <td>non-propaganda</td>\n",
       "    </tr>\n",
       "    <tr>\n",
       "      <th>1</th>\n",
       "      <td>A recent post in The Farmington Mirror — our t...</td>\n",
       "      <td>731714618</td>\n",
       "      <td>non-propaganda</td>\n",
       "    </tr>\n",
       "    <tr>\n",
       "      <th>2</th>\n",
       "      <td>President Donald Trump, as he often does while...</td>\n",
       "      <td>731714635</td>\n",
       "      <td>non-propaganda</td>\n",
       "    </tr>\n",
       "    <tr>\n",
       "      <th>3</th>\n",
       "      <td>February is Black History Month, and nothing l...</td>\n",
       "      <td>728627182</td>\n",
       "      <td>non-propaganda</td>\n",
       "    </tr>\n",
       "    <tr>\n",
       "      <th>4</th>\n",
       "      <td>The snow was so heavy, whipped up by gusting w...</td>\n",
       "      <td>728627443</td>\n",
       "      <td>non-propaganda</td>\n",
       "    </tr>\n",
       "  </tbody>\n",
       "</table>\n",
       "</div>"
      ],
      "text/plain": [
       "                                             article  article_id  \\\n",
       "0  Et tu, Rhody?  A recent editorial in the Provi...   727600136   \n",
       "1  A recent post in The Farmington Mirror — our t...   731714618   \n",
       "2  President Donald Trump, as he often does while...   731714635   \n",
       "3  February is Black History Month, and nothing l...   728627182   \n",
       "4  The snow was so heavy, whipped up by gusting w...   728627443   \n",
       "\n",
       "            label  \n",
       "0  non-propaganda  \n",
       "1  non-propaganda  \n",
       "2  non-propaganda  \n",
       "3  non-propaganda  \n",
       "4  non-propaganda  "
      ]
     },
     "execution_count": 5,
     "metadata": {},
     "output_type": "execute_result"
    }
   ],
   "source": [
    "df.head()"
   ]
  },
  {
   "cell_type": "markdown",
   "metadata": {},
   "source": [
    "### non-propaganda vs propaganda"
   ]
  },
  {
   "cell_type": "code",
   "execution_count": 6,
   "metadata": {},
   "outputs": [
    {
     "data": {
      "text/plain": [
       "non-propaganda    31965\n",
       "propaganda         4021\n",
       "Name: label, dtype: int64"
      ]
     },
     "execution_count": 6,
     "metadata": {},
     "output_type": "execute_result"
    }
   ],
   "source": [
    "df.label.value_counts()"
   ]
  },
  {
   "cell_type": "code",
   "execution_count": 7,
   "metadata": {},
   "outputs": [
    {
     "data": {
      "text/plain": [
       "'Et tu, Rhody?  A recent editorial in the Providence Journal cataloged everything it could find wrong with Connecticut and ended with this suggestion: \\xe2\\x80\\x9cGov. Gina Raimondo should see if at least some of those jobs could come to Rhode Island. It is certainly less risky than the Nutmeg State.\\xe2\\x80\\x9d  We beg your pardon.  The state with world-famous pension problems and persistent economic issues of its own is \\xe2\\x80\\x9cless risky\\xe2\\x80\\x9d?  The Journal itself reported just a few weeks ago on Rhode Island\\xe2\\x80\\x99s own significant economic problems, which in many ways reflect Connecticut\\xe2\\x80\\x99s.  Rhode Island enjoys a legacy of corruption that not even Connecticut can match. The ProJo won a Pulitzer Prize in 1994 for uncovering widespread corruption within its own court system.  What, exactly, is to be gained from moving to Rhode Island?  Like Connecticut, Rhode Island has an income tax and an estate tax with comparable rates. (Forbes magazine listed it as one of the states \\xe2\\x80\\x9cWhere Not To Die.\\xe2\\x80\\x9d Connecticut made the list, too.)  Connecticut and Rhode Island\\xe2\\x80\\x99s interdependence has been limited, with the exception of the interstate economy created by Electric Boat in Groton. There have been no border wars and very little bloodshed. A few jokes about Rhode Island\\xe2\\x80\\x99s size, maybe, but if we\\xe2\\x80\\x99re being honest, Connecticut doesn\\xe2\\x80\\x99t really have a lot going on in that department either.  A little interstate competition is fine, but if Connecticut suffers, so does Rhode Island \\xe2\\x80\\x94 and all of New England, for that matter.  Connecticut is losing residents at a troubling rate, but Rhode Island has an outmigration problem of its own. From 2015 to 2016, the Ocean State experienced a net loss of about 2,000 tax filers, who took with them more than $182 million in adjusted gross income. The top destination states for people who fled Rhode Island were Massachusetts, Florida and \\xe2\\x80\\x94 wait for it \\xe2\\x80\\x94 Connecticut.  Connecticut residents moved to Rhode Island as well, of course. But Connecticut\\xe2\\x80\\x99s population is 3\\xc2\\xbd times as big as Rhode Island\\xe2\\x80\\x99s. So the 1,175 tax filers who left Rhode Island for Connecticut represent a far larger portion of the Ocean State than the 1,220 who moved from Connecticut to Rhode Island. If any state should be concerned about losing residents to its neighbor, it\\xe2\\x80\\x99s Rhode Island.  But we don\\xe2\\x80\\x99t want to poach Rhode Islanders. We\\xe2\\x80\\x99d rather celebrate Electric Boat\\xe2\\x80\\x99s growth and the burgeoning workforce that supports both states. We\\xe2\\x80\\x99d rather cheer CVS for buying Aetna and keeping it in Hartford than try to woo CVS from Woonsocket.  A booming Connecticut, especially in the insurance and defense industries, only helps Rhode Island.  As Electric Boat \\xe2\\x80\\x94 headquartered in Connecticut, might we emphasize \\xe2\\x80\\x94 grows over the next decade, the effect on Little Rhody will be profound, as the ProJo\\xe2\\x80\\x99s editorial board pointed out. A thriving border economy helps both states as supplier chains develop and as feeder businesses bloom.  But for the same reasons that the stain of a Hartford bankruptcy would spread to the suburbs, if Connecticut becomes an economic wasteland, the effects would be felt across New England.  If Rhode Island and Connecticut want to find a way out of the muck, far better for them to work together.  Yes, Connecticut can learn from Rhode Island. Connecticut\\xe2\\x80\\x99s pension problems are similar to those that threatened to swamp Rhode Island, but there are key differences, especially in that Connecticut\\xe2\\x80\\x99s pensions are contractual, where in Rhode Island, they were set by state statute.  Rhode Island made some tough choices and anticipated a legal battle to solve its problems. Connecticut leaders might have to find the stomach for the same type of strategy.  Connecticut and Rhode Island have a lot in common, including language. We both drive around the rotary to get a grinder at Cumbie\\xe2\\x80\\x99s, for example. And we are glad that Rhode Island has made progress on its pension issues.  But that\\xe2\\x80\\x99s no reason to try to poach a few residents. A regional approach would be much wiser.'"
      ]
     },
     "execution_count": 7,
     "metadata": {},
     "output_type": "execute_result"
    }
   ],
   "source": [
    "df.loc[0, 'article']"
   ]
  },
  {
   "cell_type": "markdown",
   "metadata": {},
   "source": [
    "### Where are ascii characters like - '—', '“', '”', '’'"
   ]
  },
  {
   "cell_type": "code",
   "execution_count": 24,
   "metadata": {},
   "outputs": [],
   "source": [
    "a = df['article'].str.replace('[\\xe2\\x80\\x9c|\\xe2\\x80\\x9d]', '\\\"')"
   ]
  },
  {
   "cell_type": "code",
   "execution_count": 28,
   "metadata": {},
   "outputs": [
    {
     "data": {
      "text/plain": [
       "'Et tu, Rhody?  A recent editorial in the Providence Journal cataloged everything it could find wrong with Connecticut and ended with this suggestion: \"\"\"Gov. Gina Raimondo should see if at least some of those jobs could come to Rhode Island. It is certainly less risky than the Nutmeg State.\"\"\"  We beg your pardon.  The state with world-famous pension problems and persistent economic issues of its own is \"\"\"less risky\"\"\"?  The Journal itself reported just a few weeks ago on Rhode Island\"\"\\x99s own significant economic problems, which in many ways reflect Connecticut\"\"\\x99s.  Rhode Island enjoys a legacy of corruption that not even Connecticut can match. The ProJo won a Pulitzer Prize in 1994 for uncovering widespread corruption within its own court system.  What, exactly, is to be gained from moving to Rhode Island?  Like Connecticut, Rhode Island has an income tax and an estate tax with comparable rates. (Forbes magazine listed it as one of the states \"\"\"Where Not To Die.\"\"\" Connecticut made the list, too.)  Connecticut and Rhode Island\"\"\\x99s interdependence has been limited, with the exception of the interstate economy created by Electric Boat in Groton. There have been no border wars and very little bloodshed. A few jokes about Rhode Island\"\"\\x99s size, maybe, but if we\"\"\\x99re being honest, Connecticut doesn\"\"\\x99t really have a lot going on in that department either.  A little interstate competition is fine, but if Connecticut suffers, so does Rhode Island \"\"\\x94 and all of New England, for that matter.  Connecticut is losing residents at a troubling rate, but Rhode Island has an outmigration problem of its own. From 2015 to 2016, the Ocean State experienced a net loss of about 2,000 tax filers, who took with them more than $182 million in adjusted gross income. The top destination states for people who fled Rhode Island were Massachusetts, Florida and \"\"\\x94 wait for it \"\"\\x94 Connecticut.  Connecticut residents moved to Rhode Island as well, of course. But Connecticut\"\"\\x99s population is 3\\xc2\\xbd times as big as Rhode Island\"\"\\x99s. So the 1,175 tax filers who left Rhode Island for Connecticut represent a far larger portion of the Ocean State than the 1,220 who moved from Connecticut to Rhode Island. If any state should be concerned about losing residents to its neighbor, it\"\"\\x99s Rhode Island.  But we don\"\"\\x99t want to poach Rhode Islanders. We\"\"\\x99d rather celebrate Electric Boat\"\"\\x99s growth and the burgeoning workforce that supports both states. We\"\"\\x99d rather cheer CVS for buying Aetna and keeping it in Hartford than try to woo CVS from Woonsocket.  A booming Connecticut, especially in the insurance and defense industries, only helps Rhode Island.  As Electric Boat \"\"\\x94 headquartered in Connecticut, might we emphasize \"\"\\x94 grows over the next decade, the effect on Little Rhody will be profound, as the ProJo\"\"\\x99s editorial board pointed out. A thriving border economy helps both states as supplier chains develop and as feeder businesses bloom.  But for the same reasons that the stain of a Hartford bankruptcy would spread to the suburbs, if Connecticut becomes an economic wasteland, the effects would be felt across New England.  If Rhode Island and Connecticut want to find a way out of the muck, far better for them to work together.  Yes, Connecticut can learn from Rhode Island. Connecticut\"\"\\x99s pension problems are similar to those that threatened to swamp Rhode Island, but there are key differences, especially in that Connecticut\"\"\\x99s pensions are contractual, where in Rhode Island, they were set by state statute.  Rhode Island made some tough choices and anticipated a legal battle to solve its problems. Connecticut leaders might have to find the stomach for the same type of strategy.  Connecticut and Rhode Island have a lot in common, including language. We both drive around the rotary to get a grinder at Cumbie\"\"\\x99s, for example. And we are glad that Rhode Island has made progress on its pension issues.  But that\"\"\\x99s no reason to try to poach a few residents. A regional approach would be much wiser.'"
      ]
     },
     "execution_count": 28,
     "metadata": {},
     "output_type": "execute_result"
    }
   ],
   "source": [
    "a[0]"
   ]
  },
  {
   "cell_type": "code",
   "execution_count": null,
   "metadata": {},
   "outputs": [],
   "source": [
    "'\\xe2\\x80\\x99' -> \"'\"\n",
    "'\\xe2\\x80\\x9c' -> '\"'\n",
    "'\\xe2\\x80\\x9d' -> '\"'"
   ]
  },
  {
   "cell_type": "markdown",
   "metadata": {},
   "source": [
    "### normalize the label column"
   ]
  },
  {
   "cell_type": "code",
   "execution_count": 11,
   "metadata": {},
   "outputs": [],
   "source": [
    "df.label = df.label.map({'propaganda': 1, 'non-propaganda': 0})"
   ]
  },
  {
   "cell_type": "code",
   "execution_count": null,
   "metadata": {},
   "outputs": [],
   "source": []
  }
 ],
 "metadata": {
  "kernelspec": {
   "display_name": "Python [default]",
   "language": "python",
   "name": "python2"
  },
  "language_info": {
   "codemirror_mode": {
    "name": "ipython",
    "version": 2
   },
   "file_extension": ".py",
   "mimetype": "text/x-python",
   "name": "python",
   "nbconvert_exporter": "python",
   "pygments_lexer": "ipython2",
   "version": "2.7.12"
  }
 },
 "nbformat": 4,
 "nbformat_minor": 2
}
